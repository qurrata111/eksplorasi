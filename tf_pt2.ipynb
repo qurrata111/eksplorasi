{
  "nbformat": 4,
  "nbformat_minor": 0,
  "metadata": {
    "colab": {
      "name": "tf-pt2.ipynb",
      "provenance": [],
      "collapsed_sections": [],
      "authorship_tag": "ABX9TyMBtn0GLho4dF0DqK5OOVnm",
      "include_colab_link": true
    },
    "kernelspec": {
      "name": "python3",
      "display_name": "Python 3"
    },
    "accelerator": "GPU"
  },
  "cells": [
    {
      "cell_type": "markdown",
      "metadata": {
        "id": "view-in-github",
        "colab_type": "text"
      },
      "source": [
        "<a href=\"https://colab.research.google.com/github/qurrata111/eksplorasi/blob/master/tf_pt2.ipynb\" target=\"_parent\"><img src=\"https://colab.research.google.com/assets/colab-badge.svg\" alt=\"Open In Colab\"/></a>"
      ]
    },
    {
      "cell_type": "code",
      "metadata": {
        "id": "ySL-iaDpotrv",
        "colab_type": "code",
        "colab": {}
      },
      "source": [
        "#20/01/2020\n",
        "#link tutortial : ideo-tensorflow-object-detection-api-tutorial\n",
        "#p.s.: api (application proggramming interface) adalah perangkat\n",
        "#lunak yang menizinkan dua aplikasi terhubung satu sama lain <source: netmonk>\n",
        "#singkatnya: api software yg menghubungkan dua aplikasi.\n",
        "\n",
        "#https://towardsdatascience.com/3-ways-to-load-csv-files-into-colab-7c14fcbdcb92\n",
        "#https://www.youtube.com/watch?v=n4mxwSAWvo8"
      ],
      "execution_count": 0,
      "outputs": []
    },
    {
      "cell_type": "markdown",
      "metadata": {
        "id": "S-8jRqhgpK34",
        "colab_type": "text"
      },
      "source": [
        ""
      ]
    }
  ]
}