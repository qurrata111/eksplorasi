{
  "nbformat": 4,
  "nbformat_minor": 0,
  "metadata": {
    "colab": {
      "name": "regression.ipynb",
      "provenance": [],
      "mount_file_id": "10d9Jav-KNFjF-CbwNY3zTofPxVPZaICC",
      "authorship_tag": "ABX9TyM5Q1PWxbv9+53So+xYmRFw",
      "include_colab_link": true
    },
    "kernelspec": {
      "name": "python3",
      "display_name": "Python 3"
    },
    "accelerator": "GPU"
  },
  "cells": [
    {
      "cell_type": "markdown",
      "metadata": {
        "id": "view-in-github",
        "colab_type": "text"
      },
      "source": [
        "<a href=\"https://colab.research.google.com/github/qurrata111/eksplorasi/blob/master/regression.ipynb\" target=\"_parent\"><img src=\"https://colab.research.google.com/assets/colab-badge.svg\" alt=\"Open In Colab\"/></a>"
      ]
    },
    {
      "cell_type": "code",
      "metadata": {
        "id": "XqQWEMn5ad0X",
        "colab_type": "code",
        "colab": {}
      },
      "source": [
        "# 7 April 2020\n",
        "# inspired Walpole 11.3\n",
        "import csv\n",
        "from mlxtend.plotting import plot_linear_regression\n",
        "import numpy as np\n",
        "import math"
      ],
      "execution_count": 0,
      "outputs": []
    },
    {
      "cell_type": "code",
      "metadata": {
        "id": "4P3mtpRhnr7c",
        "colab_type": "code",
        "colab": {}
      },
      "source": [
        "file = 'drive/My Drive/probstat/chem-compound.csv'\n",
        "with open(file, 'w', newline='') as file:\n",
        "    writer = csv.writer(file)\n",
        "    writer.writerow([\"no\", \"x\", \"y\"])\n",
        "    writer.writerow([1, 0, 8])\n",
        "    writer.writerow([2, 0, 6])\n",
        "    writer.writerow([3, 0, 8])\n",
        "    writer.writerow([4, 30, 25])\n",
        "    writer.writerow([5, 30, 21])\n",
        "    writer.writerow([6, 30, 24])\n",
        "    writer.writerow([7, 45, 31])\n",
        "    writer.writerow([8, 45, 33])\n",
        "    writer.writerow([9, 45, 28])\n",
        "    writer.writerow([10, 60, 44])\n",
        "    writer.writerow([11, 60, 39])\n",
        "    writer.writerow([12, 60, 42])\n",
        "    writer.writerow([13, 75, 48])\n",
        "    writer.writerow([14, 75, 51])\n",
        "    writer.writerow([15, 75, 44])\n",
        "    writer.writerow([16, 15, 12])\n",
        "    writer.writerow([17, 15, 10])\n",
        "    writer.writerow([18, 15, 14])"
      ],
      "execution_count": 0,
      "outputs": []
    },
    {
      "cell_type": "code",
      "metadata": {
        "id": "UM0xfvvSaboh",
        "colab_type": "code",
        "colab": {}
      },
      "source": [
        "x = []\n",
        "y = []\n",
        "file = 'drive/My Drive/probstat/chem-compound.csv'\n",
        "count = 0\n",
        "with open (file, 'r') as f:\n",
        "  for line in f:\n",
        "    count += 1\n",
        "    if (count > 1):\n",
        "      split = line.split(\",\")\n",
        "      x.append(int(split[1]))\n",
        "      y.append(int(split[2]))"
      ],
      "execution_count": 0,
      "outputs": []
    },
    {
      "cell_type": "code",
      "metadata": {
        "id": "p1b61ko9n3Ao",
        "colab_type": "code",
        "colab": {}
      },
      "source": [
        "def sum_of(list):\n",
        "  sum = 0\n",
        "  for i in range (0, len(list)):\n",
        "    sum += list[i]\n",
        "  return sum\n",
        "\n",
        "def sum_of_xiyi(x, y):\n",
        "  n = len(x)\n",
        "  sum = 0\n",
        "  for i in range (0, n):\n",
        "    sum += x[i]*y[i]\n",
        "  return sum\n",
        "\n",
        "def sum_of_square(x):\n",
        "  sum = 0\n",
        "  for i in range (0, len(x)):\n",
        "    sum += x[i]*x[i]\n",
        "  return sum\n",
        "\n",
        "def find_intercept(x, y):\n",
        "  n = len(x)\n",
        "  xi = float(sum_of(x))\n",
        "  yi = float(sum_of(y))\n",
        "  x_2 = float(sum_of_square(x))\n",
        "  xiyi = float(sum_of_xiyi(x,y))\n",
        "  return float(((n*xiyi) - (xi*yi)) / float((n*x_2) - math.pow(xi,2)))\n",
        "\n",
        "def find_slope(x, y):\n",
        "  n = len(x)\n",
        "  xi = float(sum_of(x))\n",
        "  yi = float(sum_of(y))\n",
        "  x_2 = float(sum_of_square(x))\n",
        "  xiyi = float(sum_of_xiyi(x,y))\n",
        "  b1 = float(((n*xiyi) - (xi*yi)) / float((n*x_2) - math.pow(xi,2)))\n",
        "  return float(yi - b1*xi) / n"
      ],
      "execution_count": 0,
      "outputs": []
    },
    {
      "cell_type": "code",
      "metadata": {
        "id": "m6pIs-wyMrR4",
        "colab_type": "code",
        "outputId": "c736650f-842d-4763-93bd-e76358e24089",
        "colab": {
          "base_uri": "https://localhost:8080/",
          "height": 34
        }
      },
      "source": [
        "# Find the equation of the regression line\n",
        "b0 = 0 # intercept\n",
        "b1 = 0 # slope\n",
        "n = len(x)\n",
        "b1 = find_intercept(x,y)\n",
        "b0 = find_slope(x,y)\n",
        "print(\"equation of the regression line : y =\", b0, \"+\", b1, \"x\")"
      ],
      "execution_count": 5,
      "outputs": [
        {
          "output_type": "stream",
          "text": [
            "equation of the regression line : y = 5.825396825396827 + 0.5676190476190476 x\n"
          ],
          "name": "stdout"
        }
      ]
    },
    {
      "cell_type": "code",
      "metadata": {
        "id": "WYS1dB5FMGVU",
        "colab_type": "code",
        "outputId": "437c60c4-c550-40bf-b9da-6e8b042b29c0",
        "colab": {
          "base_uri": "https://localhost:8080/",
          "height": 296
        }
      },
      "source": [
        "# graph\n",
        "import matplotlib.pyplot as plt\n",
        "X = np.array(x)\n",
        "Y = np.array(y)\n",
        "m, b = np.polyfit(X, Y, 1)\n",
        "plt.xlabel('x in Celcius')\n",
        "plt.ylabel('y in gram')\n",
        "plt.plot(X, Y, 'o')\n",
        "plt.plot(X, m*X + b)"
      ],
      "execution_count": 7,
      "outputs": [
        {
          "output_type": "execute_result",
          "data": {
            "text/plain": [
              "[<matplotlib.lines.Line2D at 0x7f312bdeb048>]"
            ]
          },
          "metadata": {
            "tags": []
          },
          "execution_count": 7
        },
        {
          "output_type": "display_data",
          "data": {
            "image/png": "[encoded data removed]",
            "text/plain": [
              "<Figure size 432x288 with 1 Axes>"
            ]
          },
          "metadata": {
            "tags": []
          }
        }
      ]
    },
    {
      "cell_type": "code",
      "metadata": {
        "id": "nH_de0NVMm0Z",
        "colab_type": "code",
        "outputId": "d2eabec0-7f06-4bcf-ad18-970d52ccf974",
        "colab": {
          "base_uri": "https://localhost:8080/",
          "height": 34
        }
      },
      "source": [
        "# Estimate the amount of chemical that will dissolve\n",
        "# in 100 grams of water at 50 ◦ C.\n",
        "amount_chemical = 100\n",
        "temperature = 50\n",
        "\n",
        "amount_chemical_will_dissolve = b0 + (b1*temperature)\n",
        "print(amount_chemical_will_dissolve, \"grams\")\n"
      ],
      "execution_count": 8,
      "outputs": [
        {
          "output_type": "stream",
          "text": [
            "34.20634920634921 grams\n"
          ],
          "name": "stdout"
        }
      ]
    },
    {
      "cell_type": "code",
      "metadata": {
        "id": "1HBpS5N-mLfS",
        "colab_type": "code",
        "colab": {}
      },
      "source": [
        "# inspired Walpole 11.8\n",
        "# A mathematics placement test is given to all en-\n",
        "# tering freshmen at a small college. A student who re-\n",
        "# ceives a grade below 35 is denied admission to the regu-\n",
        "# lar mathematics course and placed in a remedial class.\n",
        "# The placement test scores and the final grades for 20\n",
        "# students who took the regular course were recorded.\n",
        "file2 = 'drive/My Drive/probstat/math-placement.csv'\n",
        "with open(file2, 'w', newline='') as file:\n",
        "    writer = csv.writer(file)\n",
        "    writer.writerow([\"no\", \"placement_test\", \"course_grade\"])\n",
        "    writer.writerow([1, 50, 53])\n",
        "    writer.writerow([2, 35, 41])\n",
        "    writer.writerow([3, 35, 61])\n",
        "    writer.writerow([4, 40, 56])\n",
        "    writer.writerow([5, 55, 68])\n",
        "    writer.writerow([6, 65, 36])\n",
        "    writer.writerow([7, 35, 11])\n",
        "    writer.writerow([8, 60, 70])\n",
        "    writer.writerow([9, 90, 79])\n",
        "    writer.writerow([10, 35, 59])\n",
        "    writer.writerow([11, 90, 54])\n",
        "    writer.writerow([12, 80, 91])\n",
        "    writer.writerow([13, 60, 48])\n",
        "    writer.writerow([14, 60, 71])\n",
        "    writer.writerow([15, 60, 71])\n",
        "    writer.writerow([16, 40, 47])\n",
        "    writer.writerow([17, 55, 53])\n",
        "    writer.writerow([18, 50, 68])\n",
        "    writer.writerow([19, 65, 57])\n",
        "    writer.writerow([20, 50, 79])"
      ],
      "execution_count": 0,
      "outputs": []
    },
    {
      "cell_type": "code",
      "metadata": {
        "id": "AKBUhhPCnWZ-",
        "colab_type": "code",
        "colab": {}
      },
      "source": [
        "x2 = []\n",
        "y2 = []\n",
        "count = 0\n",
        "with open (file2, 'r') as f:\n",
        "  for line in f:\n",
        "    count += 1\n",
        "    if (count > 1):\n",
        "      split = line.split(\",\")\n",
        "      x2.append(int(split[1]))\n",
        "      y2.append(int(split[2]))"
      ],
      "execution_count": 0,
      "outputs": []
    },
    {
      "cell_type": "code",
      "metadata": {
        "id": "aQBeRwNMoMlI",
        "colab_type": "code",
        "colab": {
          "base_uri": "https://localhost:8080/",
          "height": 34
        },
        "outputId": "4249eff9-30fd-47a2-dec0-5bf62810b454"
      },
      "source": [
        "# Find the equation of the regression line\n",
        "b02 = 0 # intercept\n",
        "b12 = 0 # slope\n",
        "n2 = len(x)\n",
        "b12 = find_intercept(x2,y2)\n",
        "b02 = find_slope(x2,y2)\n",
        "print(\"equation of the regression line : y =\", b02, \"+\", b12, \"x\")"
      ],
      "execution_count": 12,
      "outputs": [
        {
          "output_type": "stream",
          "text": [
            "equation of the regression line : y = 32.505914467697906 + 0.4710646041856233 x\n"
          ],
          "name": "stdout"
        }
      ]
    },
    {
      "cell_type": "code",
      "metadata": {
        "id": "3Hr7mvOWofnH",
        "colab_type": "code",
        "colab": {
          "base_uri": "https://localhost:8080/",
          "height": 296
        },
        "outputId": "05b30fad-f12f-460f-a656-7cfc0153b8a3"
      },
      "source": [
        "# graph\n",
        "X2 = np.array(x2)\n",
        "Y2 = np.array(y2)\n",
        "m2, b2 = np.polyfit(X2, Y2, 1)\n",
        "plt.xlabel('x (placement test)')\n",
        "plt.ylabel('y (course grade)')\n",
        "plt.plot(X2, Y2, 'o')\n",
        "plt.plot(X2, m2*X2 + b2)"
      ],
      "execution_count": 14,
      "outputs": [
        {
          "output_type": "execute_result",
          "data": {
            "text/plain": [
              "[<matplotlib.lines.Line2D at 0x7f312b7ceef0>]"
            ]
          },
          "metadata": {
            "tags": []
          },
          "execution_count": 14
        },
        {
          "output_type": "display_data",
          "data": {
            "image/png": "[encoded data removed]",
            "text/plain": [
              "<Figure size 432x288 with 1 Axes>"
            ]
          },
          "metadata": {
            "tags": []
          }
        }
      ]
    },
    {
      "cell_type": "code",
      "metadata": {
        "id": "pp4PhwYwqo62",
        "colab_type": "code",
        "colab": {
          "base_uri": "https://localhost:8080/",
          "height": 34
        },
        "outputId": "59577da5-53b9-48b7-b776-1c75b5c646e7"
      },
      "source": [
        "# If 60 is the minimum passing grade, below which\n",
        "# placement test score should students in the future\n",
        "# be denied admission to this course?\n",
        "y_min = 60\n",
        "x_min = (y_min - b02)/b12\n",
        "print(\"Siswa yang berada di bawah\" , int(x_min), \"admissionnya ditolak\")"
      ],
      "execution_count": 17,
      "outputs": [
        {
          "output_type": "stream",
          "text": [
            "Siswa yang berada di bawah 58 admissionnya ditolak\n"
          ],
          "name": "stdout"
        }
      ]
    }
  ]
}