{
  "nbformat": 4,
  "nbformat_minor": 0,
  "metadata": {
    "colab": {
      "name": "Logistic-model-covid-19-indonesia.ipynb",
      "provenance": [],
      "toc_visible": true,
      "mount_file_id": "1Emg1ZspwXbguNHuXu1o4yBhE13ZaFhIg",
      "authorship_tag": "ABX9TyPd0a+Sv1VnWFHHAovGRZal",
      "include_colab_link": true
    },
    "kernelspec": {
      "name": "python3",
      "display_name": "Python 3"
    }
  },
  "cells": [
    {
      "cell_type": "markdown",
      "metadata": {
        "id": "view-in-github",
        "colab_type": "text"
      },
      "source": [
        "<a href=\"https://colab.research.google.com/github/qurrata111/eksplorasi/blob/master/Logistic_model_covid_19_indonesia.ipynb\" target=\"_parent\"><img src=\"https://colab.research.google.com/assets/colab-badge.svg\" alt=\"Open In Colab\"/></a>"
      ]
    },
    {
      "cell_type": "code",
      "metadata": {
        "id": "PSJKsI1zM4ds",
        "colab_type": "code",
        "colab": {}
      },
      "source": [
        "# 31/03/2020\n",
        "# inspired by https://towardsdatascience.com/covid-19-infection-in-italy-mathematical-models-and-predictions-7784b4d7dd8d"
      ],
      "execution_count": 0,
      "outputs": []
    },
    {
      "cell_type": "code",
      "metadata": {
        "id": "aNL7-YypOXwb",
        "colab_type": "code",
        "colab": {
          "base_uri": "https://localhost:8080/",
          "height": 170
        },
        "outputId": "55078a40-beeb-4b52-bdfc-185f82762ed0"
      },
      "source": [
        "import os\n",
        "for dirname, _, filenames in os.walk('drive/My Drive/covid-19-ina'):\n",
        "    for filename in filenames:\n",
        "        print(os.path.join(dirname, filename))\n",
        "\n",
        "# Any results you write to the current directory are saved as output.\n",
        "import pandas as pd\n",
        "import numpy as np\n",
        "from datetime import datetime,timedelta\n",
        "from sklearn.metrics import mean_squared_error\n",
        "from scipy.optimize import curve_fit\n",
        "from scipy.optimize import fsolve\n",
        "import matplotlib.pyplot as plt"
      ],
      "execution_count": 5,
      "outputs": [
        {
          "output_type": "stream",
          "text": [
            "drive/My Drive/covid-19-ina/province_timeline.csv\n",
            "drive/My Drive/covid-19-ina/jabar.csv\n",
            "drive/My Drive/covid-19-ina/jakarta.csv\n",
            "drive/My Drive/covid-19-ina/neuralnetwork.txt\n",
            "drive/My Drive/covid-19-ina/cases.csv\n",
            "drive/My Drive/covid-19-ina/confirmed_acc.csv\n",
            "drive/My Drive/covid-19-ina/province.csv\n",
            "drive/My Drive/covid-19-ina/keywordtrend.csv\n",
            "drive/My Drive/covid-19-ina/patient.csv\n"
          ],
          "name": "stdout"
        }
      ]
    },
    {
      "cell_type": "code",
      "metadata": {
        "id": "a9HznXHuPEm3",
        "colab_type": "code",
        "colab": {}
      },
      "source": [
        "df = pd.read_csv('drive/My Drive/covid-19-ina/confirmed_acc.csv')"
      ],
      "execution_count": 0,
      "outputs": []
    },
    {
      "cell_type": "code",
      "metadata": {
        "id": "Ml4yFGGlPZqF",
        "colab_type": "code",
        "colab": {}
      },
      "source": [
        "# mengubah format tanggal\n",
        "df = df.loc[:,['date','cases']]\n",
        "FMT = '%m/%d/%Y'\n",
        "date = df['date']\n",
        "df['date'] = date.map(lambda x : (datetime.strptime(x, FMT) - datetime.strptime(\"3/1/2020\", FMT)).days  )"
      ],
      "execution_count": 0,
      "outputs": []
    },
    {
      "cell_type": "code",
      "metadata": {
        "id": "3SbV-SE4Pdte",
        "colab_type": "code",
        "colab": {
          "base_uri": "https://localhost:8080/",
          "height": 419
        },
        "outputId": "f1a4004f-7387-42c2-dde2-4ad358de61c7"
      },
      "source": [
        "df"
      ],
      "execution_count": 8,
      "outputs": [
        {
          "output_type": "execute_result",
          "data": {
            "text/html": [
              "<div>\n",
              "<style scoped>\n",
              "    .dataframe tbody tr th:only-of-type {\n",
              "        vertical-align: middle;\n",
              "    }\n",
              "\n",
              "    .dataframe tbody tr th {\n",
              "        vertical-align: top;\n",
              "    }\n",
              "\n",
              "    .dataframe thead th {\n",
              "        text-align: right;\n",
              "    }\n",
              "</style>\n",
              "<table border=\"1\" class=\"dataframe\">\n",
              "  <thead>\n",
              "    <tr style=\"text-align: right;\">\n",
              "      <th></th>\n",
              "      <th>date</th>\n",
              "      <th>cases</th>\n",
              "    </tr>\n",
              "  </thead>\n",
              "  <tbody>\n",
              "    <tr>\n",
              "      <th>0</th>\n",
              "      <td>-39</td>\n",
              "      <td>0</td>\n",
              "    </tr>\n",
              "    <tr>\n",
              "      <th>1</th>\n",
              "      <td>-38</td>\n",
              "      <td>0</td>\n",
              "    </tr>\n",
              "    <tr>\n",
              "      <th>2</th>\n",
              "      <td>-37</td>\n",
              "      <td>0</td>\n",
              "    </tr>\n",
              "    <tr>\n",
              "      <th>3</th>\n",
              "      <td>-36</td>\n",
              "      <td>0</td>\n",
              "    </tr>\n",
              "    <tr>\n",
              "      <th>4</th>\n",
              "      <td>-35</td>\n",
              "      <td>0</td>\n",
              "    </tr>\n",
              "    <tr>\n",
              "      <th>...</th>\n",
              "      <td>...</td>\n",
              "      <td>...</td>\n",
              "    </tr>\n",
              "    <tr>\n",
              "      <th>64</th>\n",
              "      <td>25</td>\n",
              "      <td>893</td>\n",
              "    </tr>\n",
              "    <tr>\n",
              "      <th>65</th>\n",
              "      <td>26</td>\n",
              "      <td>1046</td>\n",
              "    </tr>\n",
              "    <tr>\n",
              "      <th>66</th>\n",
              "      <td>27</td>\n",
              "      <td>1155</td>\n",
              "    </tr>\n",
              "    <tr>\n",
              "      <th>67</th>\n",
              "      <td>28</td>\n",
              "      <td>1285</td>\n",
              "    </tr>\n",
              "    <tr>\n",
              "      <th>68</th>\n",
              "      <td>29</td>\n",
              "      <td>1414</td>\n",
              "    </tr>\n",
              "  </tbody>\n",
              "</table>\n",
              "<p>69 rows × 2 columns</p>\n",
              "</div>"
            ],
            "text/plain": [
              "    date  cases\n",
              "0    -39      0\n",
              "1    -38      0\n",
              "2    -37      0\n",
              "3    -36      0\n",
              "4    -35      0\n",
              "..   ...    ...\n",
              "64    25    893\n",
              "65    26   1046\n",
              "66    27   1155\n",
              "67    28   1285\n",
              "68    29   1414\n",
              "\n",
              "[69 rows x 2 columns]"
            ]
          },
          "metadata": {
            "tags": []
          },
          "execution_count": 8
        }
      ]
    },
    {
      "cell_type": "code",
      "metadata": {
        "id": "uhA_4ZDzPg1V",
        "colab_type": "code",
        "colab": {}
      },
      "source": [
        "#Data tambahan sejak 18 Maret 2020\n",
        "df = df.append({'date' : 17 , 'cases' : 227} , ignore_index=True) #18 Maret\n",
        "df= df.append({'date' : 18, 'cases' : 309}, ignore_index=True) #19 Maret\n",
        "df= df.append({'date' : 19, 'cases' : 369}, ignore_index=True) #20 Maret\n",
        "df=df.append({'date' : 20, 'cases' : 450}, ignore_index=True) #21 Maret\n",
        "df=df.append({'date' : 21, 'cases' : 514}, ignore_index=True) #22 Maret\n",
        "df=df.append({'date' : 22, 'cases' : 579}, ignore_index=True) #23 Maret\n",
        "df=df.append({'date' : 23, 'cases' : 686}, ignore_index=True) #24 Maret\n",
        "df=df.append({'date' : 24, 'cases' : 790}, ignore_index=True) #25 Maret\n",
        "df=df.append({'date' : 25, 'cases' : 893}, ignore_index=True) #26 Maret\n",
        "df=df.append({'date' : 26, 'cases' : 1046}, ignore_index=True) #27 Maret\n",
        "df=df.append({'date' : 27, 'cases' : 1155}, ignore_index=True) #28 Maret\n",
        "df=df.append({'date' : 28, 'cases' : 1285}, ignore_index=True) #29 Maret\n",
        "df=df.append({'date' : 29, 'cases' : 1414}, ignore_index=True) #30 Maret"
      ],
      "execution_count": 0,
      "outputs": []
    },
    {
      "cell_type": "code",
      "metadata": {
        "id": "kHiUiIejPlKY",
        "colab_type": "code",
        "colab": {
          "base_uri": "https://localhost:8080/",
          "height": 419
        },
        "outputId": "c4afe491-a58d-432a-b5d3-e7acdef7e76e"
      },
      "source": [
        "df"
      ],
      "execution_count": 10,
      "outputs": [
        {
          "output_type": "execute_result",
          "data": {
            "text/html": [
              "<div>\n",
              "<style scoped>\n",
              "    .dataframe tbody tr th:only-of-type {\n",
              "        vertical-align: middle;\n",
              "    }\n",
              "\n",
              "    .dataframe tbody tr th {\n",
              "        vertical-align: top;\n",
              "    }\n",
              "\n",
              "    .dataframe thead th {\n",
              "        text-align: right;\n",
              "    }\n",
              "</style>\n",
              "<table border=\"1\" class=\"dataframe\">\n",
              "  <thead>\n",
              "    <tr style=\"text-align: right;\">\n",
              "      <th></th>\n",
              "      <th>date</th>\n",
              "      <th>cases</th>\n",
              "    </tr>\n",
              "  </thead>\n",
              "  <tbody>\n",
              "    <tr>\n",
              "      <th>0</th>\n",
              "      <td>-39</td>\n",
              "      <td>0</td>\n",
              "    </tr>\n",
              "    <tr>\n",
              "      <th>1</th>\n",
              "      <td>-38</td>\n",
              "      <td>0</td>\n",
              "    </tr>\n",
              "    <tr>\n",
              "      <th>2</th>\n",
              "      <td>-37</td>\n",
              "      <td>0</td>\n",
              "    </tr>\n",
              "    <tr>\n",
              "      <th>3</th>\n",
              "      <td>-36</td>\n",
              "      <td>0</td>\n",
              "    </tr>\n",
              "    <tr>\n",
              "      <th>4</th>\n",
              "      <td>-35</td>\n",
              "      <td>0</td>\n",
              "    </tr>\n",
              "    <tr>\n",
              "      <th>...</th>\n",
              "      <td>...</td>\n",
              "      <td>...</td>\n",
              "    </tr>\n",
              "    <tr>\n",
              "      <th>77</th>\n",
              "      <td>25</td>\n",
              "      <td>893</td>\n",
              "    </tr>\n",
              "    <tr>\n",
              "      <th>78</th>\n",
              "      <td>26</td>\n",
              "      <td>1046</td>\n",
              "    </tr>\n",
              "    <tr>\n",
              "      <th>79</th>\n",
              "      <td>27</td>\n",
              "      <td>1155</td>\n",
              "    </tr>\n",
              "    <tr>\n",
              "      <th>80</th>\n",
              "      <td>28</td>\n",
              "      <td>1285</td>\n",
              "    </tr>\n",
              "    <tr>\n",
              "      <th>81</th>\n",
              "      <td>29</td>\n",
              "      <td>1414</td>\n",
              "    </tr>\n",
              "  </tbody>\n",
              "</table>\n",
              "<p>82 rows × 2 columns</p>\n",
              "</div>"
            ],
            "text/plain": [
              "    date  cases\n",
              "0    -39      0\n",
              "1    -38      0\n",
              "2    -37      0\n",
              "3    -36      0\n",
              "4    -35      0\n",
              "..   ...    ...\n",
              "77    25    893\n",
              "78    26   1046\n",
              "79    27   1155\n",
              "80    28   1285\n",
              "81    29   1414\n",
              "\n",
              "[82 rows x 2 columns]"
            ]
          },
          "metadata": {
            "tags": []
          },
          "execution_count": 10
        }
      ]
    },
    {
      "cell_type": "code",
      "metadata": {
        "id": "JvUBK9B8PvXw",
        "colab_type": "code",
        "colab": {}
      },
      "source": [
        "# The logistic model has been widely used to describe the growth of a population\n",
        "# An infection can be described as the growth of the population of a pathogen agent\n",
        "# so a logistic model seems reasonable.\n",
        "# x adalah waktu\n",
        "# a adalah kecepatan infeksi\n",
        "# b hari dengan maksimum infeksi yg terjadi\n",
        "# c total orang yg terinfeksi ketika infeksi berakhir\n",
        "def logistic_model(x,a,b,c):\n",
        "    return c/(1+np.exp(-(x-b)/a))"
      ],
      "execution_count": 0,
      "outputs": []
    },
    {
      "cell_type": "code",
      "metadata": {
        "id": "cdaID9VqQVPF",
        "colab_type": "code",
        "colab": {}
      },
      "source": [
        "# We can use the curve_fit function of scipy library \n",
        "# to estimate the parameter values and errors starting from the original data.\n",
        "x = list(df.iloc[39:,0])\n",
        "y = list(df.iloc[39:,1])\n",
        "fit = curve_fit(logistic_model,x,y)"
      ],
      "execution_count": 0,
      "outputs": []
    },
    {
      "cell_type": "code",
      "metadata": {
        "id": "KsD7RQHlQiIX",
        "colab_type": "code",
        "colab": {
          "base_uri": "https://localhost:8080/",
          "height": 34
        },
        "outputId": "639cf9b7-9322-4944-c8ec-a8b28bdae4fd"
      },
      "source": [
        "a, b = fit\n",
        "a"
      ],
      "execution_count": 18,
      "outputs": [
        {
          "output_type": "execute_result",
          "data": {
            "text/plain": [
              "array([   4.48953391,   26.56543077, 2217.87932481])"
            ]
          },
          "metadata": {
            "tags": []
          },
          "execution_count": 18
        }
      ]
    },
    {
      "cell_type": "code",
      "metadata": {
        "id": "84GxKc1DRGxV",
        "colab_type": "code",
        "colab": {
          "base_uri": "https://localhost:8080/",
          "height": 34
        },
        "outputId": "19b5c0cb-cf67-4775-e7c6-57b4a7eef215"
      },
      "source": [
        "# hitung eror dalam data\n",
        "errors = [np.sqrt(fit[1][i][i]) for i in [0,1,2]]\n",
        "errors"
      ],
      "execution_count": 19,
      "outputs": [
        {
          "output_type": "execute_result",
          "data": {
            "text/plain": [
              "[0.11412271001299165, 0.37383667479498023, 88.85694189310998]"
            ]
          },
          "metadata": {
            "tags": []
          },
          "execution_count": 19
        }
      ]
    },
    {
      "cell_type": "code",
      "metadata": {
        "id": "50F4dRtgRVfX",
        "colab_type": "code",
        "colab": {}
      },
      "source": [
        "# worst case\n",
        "A = a[0]+errors[0]\n",
        "B = a[1]+errors[1]\n",
        "C = a[2]+errors[2]"
      ],
      "execution_count": 0,
      "outputs": []
    },
    {
      "cell_type": "code",
      "metadata": {
        "id": "AW-IWByaRga_",
        "colab_type": "code",
        "colab": {
          "base_uri": "https://localhost:8080/",
          "height": 34
        },
        "outputId": "a9ac44d3-9ce2-4eb5-bff4-891fc5472cd7"
      },
      "source": [
        "# Jumlah hari maksimal dari 1 Maret 2020\n",
        "sol = int(fsolve(lambda x : logistic_model(x,A,B,C) - int(C),B))\n",
        "sol"
      ],
      "execution_count": 22,
      "outputs": [
        {
          "output_type": "execute_result",
          "data": {
            "text/plain": [
              "63"
            ]
          },
          "metadata": {
            "tags": []
          },
          "execution_count": 22
        }
      ]
    },
    {
      "cell_type": "code",
      "metadata": {
        "id": "ZPAXxMcQRsy_",
        "colab_type": "code",
        "colab": {
          "base_uri": "https://localhost:8080/",
          "height": 450
        },
        "outputId": "39459b8c-3154-421e-8cfc-d3558839a61a"
      },
      "source": [
        "pred_x = list(range(max(x),sol))\n",
        "plt.rcParams['figure.figsize'] = [7, 7]\n",
        "plt.rc('font', size=14)# Real data\n",
        "plt.scatter(x,y,label=\"Data sesungguhnya\",color=\"red\")\n",
        "\n",
        "# Predicted logistic curve\n",
        "plt.plot(x+pred_x, [logistic_model(i,A,B,C) for i in x+pred_x], label=\"Pemodelan dengan logistik\" )\n",
        "\n",
        "plt.legend()\n",
        "plt.xlabel(\"Hari sejak 1 Maret 2020\")\n",
        "plt.ylabel(\"Banyak orang terinfeksi\")\n",
        "plt.ylim((min(y)*0.9,C*1.1))\n",
        "plt.show()"
      ],
      "execution_count": 26,
      "outputs": [
        {
          "output_type": "display_data",
          "data": {
            "image/png": "[encoded data removed]",
            "text/plain": [
              "<Figure size 504x504 with 1 Axes>"
            ]
          },
          "metadata": {
            "tags": []
          }
        }
      ]
    },
    {
      "cell_type": "code",
      "metadata": {
        "id": "Xb9cAWZjSW6U",
        "colab_type": "code",
        "colab": {
          "base_uri": "https://localhost:8080/",
          "height": 51
        },
        "outputId": "915d1dec-ae74-44dd-edd8-9850154d16b7"
      },
      "source": [
        "# analisis residu (?)\n",
        "# Residuals are the differences between each experimental point and \n",
        "# the corresponding theoretical point\n",
        "# We can analyze the residuals of both models in order to\n",
        "# verify the best fitting curve.\n",
        "# In a first approximation, the lower Mean Squared Error between theoretical and\n",
        "# experimental data, the better the fit.\n",
        "y_pred_logistic = [logistic_model(i,A,B,C) for i in x]\n",
        "p = mean_squared_error(y,y_pred_logistic)\n",
        "\n",
        "s1 = (np.subtract(y,y_pred_logistic)**2).sum()\n",
        "s2 = (np.subtract(y,np.mean(y))**2).sum()\n",
        "r = 1-s1/s2\n",
        "print(\"R^2 adalah {}\".format(r))\n",
        "print(\"Mean square errornya adalah {}\".format(p))"
      ],
      "execution_count": 27,
      "outputs": [
        {
          "output_type": "stream",
          "text": [
            "R^2 adalah 0.9986315670977643\n",
            "Mean square errornya adalah 278.15485357585766\n"
          ],
          "name": "stdout"
        }
      ]
    },
    {
      "cell_type": "code",
      "metadata": {
        "id": "OBG7pFJ4S83t",
        "colab_type": "code",
        "colab": {}
      },
      "source": [
        "# prediksi tanggal wabah maksimal\n",
        "from datetime import timedelta, date\n",
        "from datetime import datetime  \n",
        "from datetime import timedelta \n",
        "\n",
        "start_date = \"01/03/20\"\n",
        "\n",
        "date_1 = datetime.strptime(start_date, \"%d/%m/%y\")\n",
        "\n",
        "end_date = date_1 + timedelta(days=sol)\n",
        "\n",
        "x=end_date.strftime(\"%d %B %Y\")"
      ],
      "execution_count": 0,
      "outputs": []
    },
    {
      "cell_type": "code",
      "metadata": {
        "id": "RsvKpoUrTGMA",
        "colab_type": "code",
        "colab": {
          "base_uri": "https://localhost:8080/",
          "height": 51
        },
        "outputId": "706e051e-dc12-4e88-c4a0-6731d1b20cd2"
      },
      "source": [
        "print(\"Prediksi jumlah kasus maks di indonesia adalah {:f}\".format(a[2]+errors[2])) #Penambahan dengan error\n",
        "print(\"Wabah akan berakhir {:.0f} hari setelah 1 Maret 2020 atau {}\". format(sol,x))"
      ],
      "execution_count": 30,
      "outputs": [
        {
          "output_type": "stream",
          "text": [
            "Prediksi jumlah kasus maks di indonesia adalah 2306.736267\n",
            "Wabah akan berakhir 63 hari setelah 1 Maret 2020 atau 03 May 2020\n"
          ],
          "name": "stdout"
        }
      ]
    }
  ]
}